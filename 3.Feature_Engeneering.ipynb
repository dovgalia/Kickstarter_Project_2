{
 "cells": [
  {
   "cell_type": "markdown",
   "metadata": {},
   "source": [
    "# Feature Engineering "
   ]
  },
  {
   "cell_type": "markdown",
   "metadata": {},
   "source": [
    "**Feature engineering is the process of using domain knowledge of the data to create features that make machine learning algorithms work. If feature engineering is done correctly, it increases the predictive power of machine learning algorithms by creating features from raw data that help facilitate the machine learning process. Feature Engineering is an art.**"
   ]
  },
  {
   "cell_type": "code",
   "execution_count": null,
   "metadata": {},
   "outputs": [],
   "source": []
  },
  {
   "cell_type": "code",
   "execution_count": 30,
   "metadata": {},
   "outputs": [],
   "source": [
    "#import linear algebra and data manipulation libraries\n",
    "import numpy as np\n",
    "import pandas as pd\n",
    "\n",
    "#import standard visualization\n",
    "import matplotlib.pyplot as plt\n",
    "import mlxtend\n",
    "from mlxtend.plotting import plot_confusion_matrix\n",
    "\n",
    "#import machine learning\n",
    "from sklearn.metrics import classification_report\n",
    "from sklearn.model_selection import train_test_split\n",
    "from sklearn.metrics import confusion_matrix\n",
    "from sklearn.model_selection import GridSearchCV\n",
    "from sklearn.metrics import accuracy_score, roc_auc_score\n",
    "import datetime as dt\n",
    "from scipy import stats\n",
    "from sklearn.pipeline import Pipeline\n",
    "from sklearn.model_selection import StratifiedShuffleSplit\n",
    "import category_encoders as ce\n",
    "from xgboost import XGBClassifier\n",
    "from sklearn.preprocessing import StandardScaler\n",
    "import seaborn as sns\n",
    "\n",
    "import warnings\n",
    "warnings.filterwarnings(\"ignore\")\n",
    "\n",
    "from sklearn.feature_selection import SelectFromModel\n"
   ]
  },
  {
   "cell_type": "code",
   "execution_count": 31,
   "metadata": {
    "scrolled": false
   },
   "outputs": [
    {
     "data": {
      "text/html": [
       "<div>\n",
       "<style scoped>\n",
       "    .dataframe tbody tr th:only-of-type {\n",
       "        vertical-align: middle;\n",
       "    }\n",
       "\n",
       "    .dataframe tbody tr th {\n",
       "        vertical-align: top;\n",
       "    }\n",
       "\n",
       "    .dataframe thead th {\n",
       "        text-align: right;\n",
       "    }\n",
       "</style>\n",
       "<table border=\"1\" class=\"dataframe\">\n",
       "  <thead>\n",
       "    <tr style=\"text-align: right;\">\n",
       "      <th></th>\n",
       "      <th>ID</th>\n",
       "      <th>name</th>\n",
       "      <th>category</th>\n",
       "      <th>main_category</th>\n",
       "      <th>currency</th>\n",
       "      <th>deadline</th>\n",
       "      <th>goal</th>\n",
       "      <th>launched</th>\n",
       "      <th>pledged</th>\n",
       "      <th>state</th>\n",
       "      <th>backers</th>\n",
       "      <th>country</th>\n",
       "      <th>usd pledged</th>\n",
       "      <th>usd_pledged_real</th>\n",
       "      <th>usd_goal_real</th>\n",
       "    </tr>\n",
       "  </thead>\n",
       "  <tbody>\n",
       "    <tr>\n",
       "      <th>0</th>\n",
       "      <td>1000002330</td>\n",
       "      <td>The Songs of Adelaide &amp; Abullah</td>\n",
       "      <td>Poetry</td>\n",
       "      <td>Publishing</td>\n",
       "      <td>GBP</td>\n",
       "      <td>2015-10-09</td>\n",
       "      <td>1000.0</td>\n",
       "      <td>2015-08-11 12:12:28</td>\n",
       "      <td>0.0</td>\n",
       "      <td>failed</td>\n",
       "      <td>0</td>\n",
       "      <td>GB</td>\n",
       "      <td>0.0</td>\n",
       "      <td>0.0</td>\n",
       "      <td>1533.95</td>\n",
       "    </tr>\n",
       "    <tr>\n",
       "      <th>1</th>\n",
       "      <td>1000003930</td>\n",
       "      <td>Greeting From Earth: ZGAC Arts Capsule For ET</td>\n",
       "      <td>Narrative Film</td>\n",
       "      <td>Film &amp; Video</td>\n",
       "      <td>USD</td>\n",
       "      <td>2017-11-01</td>\n",
       "      <td>30000.0</td>\n",
       "      <td>2017-09-02 04:43:57</td>\n",
       "      <td>2421.0</td>\n",
       "      <td>failed</td>\n",
       "      <td>15</td>\n",
       "      <td>US</td>\n",
       "      <td>100.0</td>\n",
       "      <td>2421.0</td>\n",
       "      <td>30000.00</td>\n",
       "    </tr>\n",
       "    <tr>\n",
       "      <th>2</th>\n",
       "      <td>1000004038</td>\n",
       "      <td>Where is Hank?</td>\n",
       "      <td>Narrative Film</td>\n",
       "      <td>Film &amp; Video</td>\n",
       "      <td>USD</td>\n",
       "      <td>2013-02-26</td>\n",
       "      <td>45000.0</td>\n",
       "      <td>2013-01-12 00:20:50</td>\n",
       "      <td>220.0</td>\n",
       "      <td>failed</td>\n",
       "      <td>3</td>\n",
       "      <td>US</td>\n",
       "      <td>220.0</td>\n",
       "      <td>220.0</td>\n",
       "      <td>45000.00</td>\n",
       "    </tr>\n",
       "    <tr>\n",
       "      <th>3</th>\n",
       "      <td>1000007540</td>\n",
       "      <td>ToshiCapital Rekordz Needs Help to Complete Album</td>\n",
       "      <td>Music</td>\n",
       "      <td>Music</td>\n",
       "      <td>USD</td>\n",
       "      <td>2012-04-16</td>\n",
       "      <td>5000.0</td>\n",
       "      <td>2012-03-17 03:24:11</td>\n",
       "      <td>1.0</td>\n",
       "      <td>failed</td>\n",
       "      <td>1</td>\n",
       "      <td>US</td>\n",
       "      <td>1.0</td>\n",
       "      <td>1.0</td>\n",
       "      <td>5000.00</td>\n",
       "    </tr>\n",
       "    <tr>\n",
       "      <th>4</th>\n",
       "      <td>1000011046</td>\n",
       "      <td>Community Film Project: The Art of Neighborhoo...</td>\n",
       "      <td>Film &amp; Video</td>\n",
       "      <td>Film &amp; Video</td>\n",
       "      <td>USD</td>\n",
       "      <td>2015-08-29</td>\n",
       "      <td>19500.0</td>\n",
       "      <td>2015-07-04 08:35:03</td>\n",
       "      <td>1283.0</td>\n",
       "      <td>canceled</td>\n",
       "      <td>14</td>\n",
       "      <td>US</td>\n",
       "      <td>1283.0</td>\n",
       "      <td>1283.0</td>\n",
       "      <td>19500.00</td>\n",
       "    </tr>\n",
       "  </tbody>\n",
       "</table>\n",
       "</div>"
      ],
      "text/plain": [
       "           ID                                               name  \\\n",
       "0  1000002330                    The Songs of Adelaide & Abullah   \n",
       "1  1000003930      Greeting From Earth: ZGAC Arts Capsule For ET   \n",
       "2  1000004038                                     Where is Hank?   \n",
       "3  1000007540  ToshiCapital Rekordz Needs Help to Complete Album   \n",
       "4  1000011046  Community Film Project: The Art of Neighborhoo...   \n",
       "\n",
       "         category main_category currency    deadline     goal  \\\n",
       "0          Poetry    Publishing      GBP  2015-10-09   1000.0   \n",
       "1  Narrative Film  Film & Video      USD  2017-11-01  30000.0   \n",
       "2  Narrative Film  Film & Video      USD  2013-02-26  45000.0   \n",
       "3           Music         Music      USD  2012-04-16   5000.0   \n",
       "4    Film & Video  Film & Video      USD  2015-08-29  19500.0   \n",
       "\n",
       "              launched  pledged     state  backers country  usd pledged  \\\n",
       "0  2015-08-11 12:12:28      0.0    failed        0      GB          0.0   \n",
       "1  2017-09-02 04:43:57   2421.0    failed       15      US        100.0   \n",
       "2  2013-01-12 00:20:50    220.0    failed        3      US        220.0   \n",
       "3  2012-03-17 03:24:11      1.0    failed        1      US          1.0   \n",
       "4  2015-07-04 08:35:03   1283.0  canceled       14      US       1283.0   \n",
       "\n",
       "   usd_pledged_real  usd_goal_real  \n",
       "0               0.0        1533.95  \n",
       "1            2421.0       30000.00  \n",
       "2             220.0       45000.00  \n",
       "3               1.0        5000.00  \n",
       "4            1283.0       19500.00  "
      ]
     },
     "execution_count": 31,
     "metadata": {},
     "output_type": "execute_result"
    }
   ],
   "source": [
    "df_final = pd.read_csv(r\"C:\\Users\\1\\Documents\\DataScience-Python3\\kickstarter-projects/ks-projects-201801.csv\")\n",
    "df_final.head()"
   ]
  },
  {
   "cell_type": "markdown",
   "metadata": {},
   "source": [
    "# Datatypes"
   ]
  },
  {
   "cell_type": "code",
   "execution_count": 32,
   "metadata": {},
   "outputs": [],
   "source": [
    "#Converting datatype \"object\" to \"datetime\" in \"deadline\", and \"launched\" columns \n",
    "df_final.deadline = pd.to_datetime(df_final.deadline, errors = 'coerce', format=\"%Y/%m/%d\").dt.date\n",
    "df_final.launched = pd.to_datetime(df_final.launched, errors = 'coerce', format=\"%Y/%m/%d\").dt.date "
   ]
  },
  {
   "cell_type": "markdown",
   "metadata": {},
   "source": [
    "# Misentered Data"
   ]
  },
  {
   "cell_type": "code",
   "execution_count": 33,
   "metadata": {
    "scrolled": true
   },
   "outputs": [
    {
     "data": {
      "text/plain": [
       "US    292627\n",
       "GB     33672\n",
       "CA     14756\n",
       "AU      7839\n",
       "DE      4171\n",
       "FR      2939\n",
       "IT      2878\n",
       "NL      2868\n",
       "ES      2276\n",
       "SE      1757\n",
       "MX      1752\n",
       "NZ      1447\n",
       "DK      1113\n",
       "IE       811\n",
       "CH       761\n",
       "NO       708\n",
       "HK       618\n",
       "BE       617\n",
       "AT       597\n",
       "SG       555\n",
       "LU        62\n",
       "JP        40\n",
       "Name: country, dtype: int64"
      ]
     },
     "execution_count": 33,
     "metadata": {},
     "output_type": "execute_result"
    }
   ],
   "source": [
    "# excluding N,0\" from df\n",
    "df_final= df_final[df_final['country'] != 'N,0\"'] \n",
    "df_final.country.value_counts() "
   ]
  },
  {
   "cell_type": "code",
   "execution_count": 34,
   "metadata": {},
   "outputs": [],
   "source": [
    "#dropping null values\n",
    "df_final = df_final.dropna() "
   ]
  },
  {
   "cell_type": "code",
   "execution_count": 35,
   "metadata": {},
   "outputs": [],
   "source": [
    "# deletting other states\n",
    "df_final = df_final[df_final.state != \"live\"]\n",
    "df_final = df_final[df_final.state != \"canceled\"] \n",
    "df_final = df_final[df_final.state != \"suspended\"] \n"
   ]
  },
  {
   "cell_type": "code",
   "execution_count": 36,
   "metadata": {},
   "outputs": [],
   "source": [
    "df_final['launch_month']=pd.to_datetime(df_final['launched'], format=\"%Y/%m/%d\").dt.month \n",
    "df_final['launch_day']=pd.to_datetime(df_final['launched'], format=\"%Y/%m/%d\").dt.dayofweek"
   ]
  },
  {
   "cell_type": "markdown",
   "metadata": {},
   "source": [
    "**creating column based on launch month<br>\n",
    "creating column based on launch day of week**"
   ]
  },
  {
   "cell_type": "markdown",
   "metadata": {},
   "source": [
    "# Encoding country"
   ]
  },
  {
   "cell_type": "code",
   "execution_count": 37,
   "metadata": {},
   "outputs": [],
   "source": [
    "#creating feature to indictate whether project was made in US or not\n",
    "df_final['US'] = np.where(df_final.country=='US', 1, 0)"
   ]
  },
  {
   "cell_type": "markdown",
   "metadata": {},
   "source": [
    "**Since we have way more data on US kickstarters than any other country, its better to create a feature divides the set into US kickstarters and kickstarters from other countries to help balance our country data out.**"
   ]
  },
  {
   "cell_type": "markdown",
   "metadata": {},
   "source": [
    "# Encoding 'Main category'"
   ]
  },
  {
   "cell_type": "code",
   "execution_count": 38,
   "metadata": {
    "scrolled": true
   },
   "outputs": [
    {
     "data": {
      "text/plain": [
       "main_category\n",
       "Art             25640\n",
       "Comics           9878\n",
       "Crafts           7818\n",
       "Dance            3573\n",
       "Design          25363\n",
       "Fashion         19774\n",
       "Film & Video    56503\n",
       "Food            22054\n",
       "Games           28520\n",
       "Journalism       4148\n",
       "Music           45801\n",
       "Photography      9689\n",
       "Publishing      35413\n",
       "Technology      27046\n",
       "Theater         10242\n",
       "dtype: int64"
      ]
     },
     "execution_count": 38,
     "metadata": {},
     "output_type": "execute_result"
    }
   ],
   "source": [
    "df_final.groupby(['main_category']).size()"
   ]
  },
  {
   "cell_type": "code",
   "execution_count": 39,
   "metadata": {},
   "outputs": [],
   "source": [
    "# Using Target_Encoder to transform the nominal feature to numeric\n",
    "X = df_final.main_category\n",
    "y = df_final.backers\n",
    "\n",
    "ce_m_category = ce.TargetEncoder(cols = ['main_category'])\n",
    "\n",
    "ce_m_category.fit(X, y)\n",
    "\n",
    "df_final['main_category'] = ce_m_category.transform(X, y)"
   ]
  },
  {
   "cell_type": "markdown",
   "metadata": {},
   "source": [
    "**We got the average number of project backers in each main category**"
   ]
  },
  {
   "cell_type": "markdown",
   "metadata": {},
   "source": [
    "# Encoding 'category'"
   ]
  },
  {
   "cell_type": "code",
   "execution_count": 40,
   "metadata": {
    "scrolled": true
   },
   "outputs": [],
   "source": [
    "#Creating new feature \"Average check\", based on usd_pledged_real and backers\n",
    "df_final['avg_check'] = (df_final['usd_pledged_real'] / (df_final['backers']+0.00000000000000001))"
   ]
  },
  {
   "cell_type": "code",
   "execution_count": 41,
   "metadata": {
    "scrolled": true
   },
   "outputs": [
    {
     "data": {
      "text/html": [
       "<div>\n",
       "<style scoped>\n",
       "    .dataframe tbody tr th:only-of-type {\n",
       "        vertical-align: middle;\n",
       "    }\n",
       "\n",
       "    .dataframe tbody tr th {\n",
       "        vertical-align: top;\n",
       "    }\n",
       "\n",
       "    .dataframe thead th {\n",
       "        text-align: right;\n",
       "    }\n",
       "</style>\n",
       "<table border=\"1\" class=\"dataframe\">\n",
       "  <thead>\n",
       "    <tr style=\"text-align: right;\">\n",
       "      <th></th>\n",
       "      <th>ID</th>\n",
       "      <th>name</th>\n",
       "      <th>category</th>\n",
       "      <th>main_category</th>\n",
       "      <th>currency</th>\n",
       "      <th>deadline</th>\n",
       "      <th>goal</th>\n",
       "      <th>launched</th>\n",
       "      <th>pledged</th>\n",
       "      <th>state</th>\n",
       "      <th>backers</th>\n",
       "      <th>country</th>\n",
       "      <th>usd pledged</th>\n",
       "      <th>usd_pledged_real</th>\n",
       "      <th>usd_goal_real</th>\n",
       "      <th>launch_month</th>\n",
       "      <th>launch_day</th>\n",
       "      <th>US</th>\n",
       "      <th>avg_check</th>\n",
       "    </tr>\n",
       "  </thead>\n",
       "  <tbody>\n",
       "    <tr>\n",
       "      <th>0</th>\n",
       "      <td>1000002330</td>\n",
       "      <td>The Songs of Adelaide &amp; Abullah</td>\n",
       "      <td>33.239460</td>\n",
       "      <td>61.821647</td>\n",
       "      <td>GBP</td>\n",
       "      <td>2015-10-09</td>\n",
       "      <td>1000.0</td>\n",
       "      <td>2015-08-11</td>\n",
       "      <td>0.0</td>\n",
       "      <td>failed</td>\n",
       "      <td>0</td>\n",
       "      <td>GB</td>\n",
       "      <td>0.0</td>\n",
       "      <td>0.0</td>\n",
       "      <td>1533.95</td>\n",
       "      <td>8</td>\n",
       "      <td>1</td>\n",
       "      <td>0</td>\n",
       "      <td>0.000000</td>\n",
       "    </tr>\n",
       "    <tr>\n",
       "      <th>1</th>\n",
       "      <td>1000003930</td>\n",
       "      <td>Greeting From Earth: ZGAC Arts Capsule For ET</td>\n",
       "      <td>100.631673</td>\n",
       "      <td>72.585066</td>\n",
       "      <td>USD</td>\n",
       "      <td>2017-11-01</td>\n",
       "      <td>30000.0</td>\n",
       "      <td>2017-09-02</td>\n",
       "      <td>2421.0</td>\n",
       "      <td>failed</td>\n",
       "      <td>15</td>\n",
       "      <td>US</td>\n",
       "      <td>100.0</td>\n",
       "      <td>2421.0</td>\n",
       "      <td>30000.00</td>\n",
       "      <td>9</td>\n",
       "      <td>5</td>\n",
       "      <td>1</td>\n",
       "      <td>161.400000</td>\n",
       "    </tr>\n",
       "    <tr>\n",
       "      <th>2</th>\n",
       "      <td>1000004038</td>\n",
       "      <td>Where is Hank?</td>\n",
       "      <td>100.631673</td>\n",
       "      <td>72.585066</td>\n",
       "      <td>USD</td>\n",
       "      <td>2013-02-26</td>\n",
       "      <td>45000.0</td>\n",
       "      <td>2013-01-12</td>\n",
       "      <td>220.0</td>\n",
       "      <td>failed</td>\n",
       "      <td>3</td>\n",
       "      <td>US</td>\n",
       "      <td>220.0</td>\n",
       "      <td>220.0</td>\n",
       "      <td>45000.00</td>\n",
       "      <td>1</td>\n",
       "      <td>5</td>\n",
       "      <td>1</td>\n",
       "      <td>73.333333</td>\n",
       "    </tr>\n",
       "    <tr>\n",
       "      <th>3</th>\n",
       "      <td>1000007540</td>\n",
       "      <td>ToshiCapital Rekordz Needs Help to Complete Album</td>\n",
       "      <td>61.899800</td>\n",
       "      <td>58.351543</td>\n",
       "      <td>USD</td>\n",
       "      <td>2012-04-16</td>\n",
       "      <td>5000.0</td>\n",
       "      <td>2012-03-17</td>\n",
       "      <td>1.0</td>\n",
       "      <td>failed</td>\n",
       "      <td>1</td>\n",
       "      <td>US</td>\n",
       "      <td>1.0</td>\n",
       "      <td>1.0</td>\n",
       "      <td>5000.00</td>\n",
       "      <td>3</td>\n",
       "      <td>5</td>\n",
       "      <td>1</td>\n",
       "      <td>1.000000</td>\n",
       "    </tr>\n",
       "    <tr>\n",
       "      <th>5</th>\n",
       "      <td>1000014025</td>\n",
       "      <td>Monarch Espresso Bar</td>\n",
       "      <td>69.275188</td>\n",
       "      <td>58.954158</td>\n",
       "      <td>USD</td>\n",
       "      <td>2016-04-01</td>\n",
       "      <td>50000.0</td>\n",
       "      <td>2016-02-26</td>\n",
       "      <td>52375.0</td>\n",
       "      <td>successful</td>\n",
       "      <td>224</td>\n",
       "      <td>US</td>\n",
       "      <td>52375.0</td>\n",
       "      <td>52375.0</td>\n",
       "      <td>50000.00</td>\n",
       "      <td>2</td>\n",
       "      <td>4</td>\n",
       "      <td>1</td>\n",
       "      <td>233.816964</td>\n",
       "    </tr>\n",
       "  </tbody>\n",
       "</table>\n",
       "</div>"
      ],
      "text/plain": [
       "           ID                                               name    category  \\\n",
       "0  1000002330                    The Songs of Adelaide & Abullah   33.239460   \n",
       "1  1000003930      Greeting From Earth: ZGAC Arts Capsule For ET  100.631673   \n",
       "2  1000004038                                     Where is Hank?  100.631673   \n",
       "3  1000007540  ToshiCapital Rekordz Needs Help to Complete Album   61.899800   \n",
       "5  1000014025                               Monarch Espresso Bar   69.275188   \n",
       "\n",
       "   main_category currency    deadline     goal    launched  pledged  \\\n",
       "0      61.821647      GBP  2015-10-09   1000.0  2015-08-11      0.0   \n",
       "1      72.585066      USD  2017-11-01  30000.0  2017-09-02   2421.0   \n",
       "2      72.585066      USD  2013-02-26  45000.0  2013-01-12    220.0   \n",
       "3      58.351543      USD  2012-04-16   5000.0  2012-03-17      1.0   \n",
       "5      58.954158      USD  2016-04-01  50000.0  2016-02-26  52375.0   \n",
       "\n",
       "        state  backers country  usd pledged  usd_pledged_real  usd_goal_real  \\\n",
       "0      failed        0      GB          0.0               0.0        1533.95   \n",
       "1      failed       15      US        100.0            2421.0       30000.00   \n",
       "2      failed        3      US        220.0             220.0       45000.00   \n",
       "3      failed        1      US          1.0               1.0        5000.00   \n",
       "5  successful      224      US      52375.0           52375.0       50000.00   \n",
       "\n",
       "   launch_month  launch_day  US   avg_check  \n",
       "0             8           1   0    0.000000  \n",
       "1             9           5   1  161.400000  \n",
       "2             1           5   1   73.333333  \n",
       "3             3           5   1    1.000000  \n",
       "5             2           4   1  233.816964  "
      ]
     },
     "execution_count": 41,
     "metadata": {},
     "output_type": "execute_result"
    }
   ],
   "source": [
    "# Using Target_Encoder to transform the nominal feature to numeric\n",
    "\n",
    "X13 = df_final.category\n",
    "y13 = df_final.avg_check\n",
    "\n",
    "ce_category = ce.TargetEncoder(cols = ['category'])\n",
    "ce_category.fit(X13, y13)\n",
    "\n",
    "df_final['category'] = ce_category.transform(X13, y13)\n",
    "df_final.head(5)"
   ]
  },
  {
   "cell_type": "markdown",
   "metadata": {},
   "source": [
    "**We encode \"category\" feature by average check**"
   ]
  },
  {
   "cell_type": "markdown",
   "metadata": {},
   "source": [
    "# Making target culumn->Successful(1,0)"
   ]
  },
  {
   "cell_type": "code",
   "execution_count": 42,
   "metadata": {},
   "outputs": [],
   "source": [
    "#denotes whether campaign was sucessful or not\n",
    "df_final['successful'] = np.where(df_final.state == 'successful', 1, 0) "
   ]
  },
  {
   "cell_type": "markdown",
   "metadata": {},
   "source": [
    "**Lets add a column to the dataframe to reflect whether or not a campaign was successful.**"
   ]
  },
  {
   "cell_type": "markdown",
   "metadata": {},
   "source": [
    "# Scaling (usd_goal_real)"
   ]
  },
  {
   "cell_type": "code",
   "execution_count": 43,
   "metadata": {},
   "outputs": [],
   "source": [
    "scaled_df=df_final.copy()"
   ]
  },
  {
   "cell_type": "code",
   "execution_count": 44,
   "metadata": {},
   "outputs": [],
   "source": [
    "scaled_df.usd_goal_real = StandardScaler().fit_transform(scaled_df[['usd_goal_real']])\n",
    "scaled_df.main_category = StandardScaler().fit_transform(scaled_df[['main_category']])\n",
    "scaled_df.category = StandardScaler().fit_transform(scaled_df[['category']])"
   ]
  },
  {
   "cell_type": "markdown",
   "metadata": {},
   "source": [
    "# Stratified Shuffle Split"
   ]
  },
  {
   "cell_type": "code",
   "execution_count": 45,
   "metadata": {},
   "outputs": [],
   "source": [
    "split = StratifiedShuffleSplit(n_splits=1, test_size=0.1, random_state=42)\n",
    "for train_index, test_index in split.split(df_final, df_final[\"successful\"]):\n",
    "    strat_train_set = df_final.iloc[train_index]\n",
    "    strat_test_set = df_final.iloc[test_index]\n",
    "strat_test_set.head()\n",
    "\n",
    "valid_df = strat_test_set\n",
    "\n",
    "df_final = strat_train_set"
   ]
  },
  {
   "cell_type": "markdown",
   "metadata": {},
   "source": [
    "**Using Stratified Shuffle Split to divide our data to validation and train-test data**\n"
   ]
  },
  {
   "cell_type": "markdown",
   "metadata": {},
   "source": [
    "# Deletting outliers (viral projects and zero-backer projects)"
   ]
  },
  {
   "cell_type": "code",
   "execution_count": 46,
   "metadata": {},
   "outputs": [],
   "source": [
    "df_final=df_final.drop(index=[23404])\n",
    "df_final=df_final.drop(index=[75900])\n",
    "df_final=df_final.drop(index=[148585])\n",
    "df_final=df_final.drop(index=[182657])\n",
    "df_final=df_final.drop(index=[187652])\n",
    "df_final=df_final.drop(index=[292244])\n",
    "df_final=df_final.drop(index=[250254])\n",
    "df_final=df_final.drop(index=[282416])\n",
    "df_final=df_final.drop(index=[289915])\n",
    "df_final=df_final.drop(index=[293861])"
   ]
  },
  {
   "cell_type": "markdown",
   "metadata": {},
   "source": [
    "**We removed outliers in \"backers\" and \"\"usd_pledged_real\" columns as they were anomalies (from Data Wrangling)**"
   ]
  },
  {
   "cell_type": "code",
   "execution_count": 47,
   "metadata": {
    "scrolled": true
   },
   "outputs": [
    {
     "data": {
      "text/html": [
       "<div>\n",
       "<style scoped>\n",
       "    .dataframe tbody tr th:only-of-type {\n",
       "        vertical-align: middle;\n",
       "    }\n",
       "\n",
       "    .dataframe tbody tr th {\n",
       "        vertical-align: top;\n",
       "    }\n",
       "\n",
       "    .dataframe thead th {\n",
       "        text-align: right;\n",
       "    }\n",
       "</style>\n",
       "<table border=\"1\" class=\"dataframe\">\n",
       "  <thead>\n",
       "    <tr style=\"text-align: right;\">\n",
       "      <th></th>\n",
       "      <th>ID</th>\n",
       "      <th>name</th>\n",
       "      <th>category</th>\n",
       "      <th>main_category</th>\n",
       "      <th>currency</th>\n",
       "      <th>deadline</th>\n",
       "      <th>goal</th>\n",
       "      <th>launched</th>\n",
       "      <th>pledged</th>\n",
       "      <th>state</th>\n",
       "      <th>backers</th>\n",
       "      <th>country</th>\n",
       "      <th>usd pledged</th>\n",
       "      <th>usd_pledged_real</th>\n",
       "      <th>usd_goal_real</th>\n",
       "      <th>launch_month</th>\n",
       "      <th>launch_day</th>\n",
       "      <th>US</th>\n",
       "      <th>avg_check</th>\n",
       "      <th>successful</th>\n",
       "    </tr>\n",
       "  </thead>\n",
       "  <tbody>\n",
       "    <tr>\n",
       "      <th>177995</th>\n",
       "      <td>1905648234</td>\n",
       "      <td>English-language version of my book</td>\n",
       "      <td>5.302493e+01</td>\n",
       "      <td>61.821647</td>\n",
       "      <td>EUR</td>\n",
       "      <td>2015-07-11</td>\n",
       "      <td>15000.0</td>\n",
       "      <td>2015-06-11</td>\n",
       "      <td>0.0</td>\n",
       "      <td>failed</td>\n",
       "      <td>0</td>\n",
       "      <td>DE</td>\n",
       "      <td>0.0</td>\n",
       "      <td>0.0</td>\n",
       "      <td>16333.46</td>\n",
       "      <td>6</td>\n",
       "      <td>3</td>\n",
       "      <td>0</td>\n",
       "      <td>0.0</td>\n",
       "      <td>0</td>\n",
       "    </tr>\n",
       "    <tr>\n",
       "      <th>48411</th>\n",
       "      <td>1246853764</td>\n",
       "      <td>Kings of NYC : New york city fitness competition</td>\n",
       "      <td>4.636488e+01</td>\n",
       "      <td>72.585066</td>\n",
       "      <td>USD</td>\n",
       "      <td>2017-09-01</td>\n",
       "      <td>3500.0</td>\n",
       "      <td>2017-07-06</td>\n",
       "      <td>0.0</td>\n",
       "      <td>failed</td>\n",
       "      <td>0</td>\n",
       "      <td>US</td>\n",
       "      <td>0.0</td>\n",
       "      <td>0.0</td>\n",
       "      <td>3500.00</td>\n",
       "      <td>7</td>\n",
       "      <td>3</td>\n",
       "      <td>1</td>\n",
       "      <td>0.0</td>\n",
       "      <td>0</td>\n",
       "    </tr>\n",
       "    <tr>\n",
       "      <th>232626</th>\n",
       "      <td>252329171</td>\n",
       "      <td>Inflate.A.Smile Balloon Gifts and Decorations</td>\n",
       "      <td>5.280567e+01</td>\n",
       "      <td>45.424025</td>\n",
       "      <td>AUD</td>\n",
       "      <td>2015-05-03</td>\n",
       "      <td>500.0</td>\n",
       "      <td>2015-04-03</td>\n",
       "      <td>0.0</td>\n",
       "      <td>failed</td>\n",
       "      <td>0</td>\n",
       "      <td>AU</td>\n",
       "      <td>0.0</td>\n",
       "      <td>0.0</td>\n",
       "      <td>395.63</td>\n",
       "      <td>4</td>\n",
       "      <td>4</td>\n",
       "      <td>0</td>\n",
       "      <td>0.0</td>\n",
       "      <td>0</td>\n",
       "    </tr>\n",
       "    <tr>\n",
       "      <th>184548</th>\n",
       "      <td>193979394</td>\n",
       "      <td>Music of My Heart</td>\n",
       "      <td>5.890601e+01</td>\n",
       "      <td>58.351543</td>\n",
       "      <td>USD</td>\n",
       "      <td>2016-12-09</td>\n",
       "      <td>11000.0</td>\n",
       "      <td>2016-11-11</td>\n",
       "      <td>0.0</td>\n",
       "      <td>failed</td>\n",
       "      <td>0</td>\n",
       "      <td>US</td>\n",
       "      <td>0.0</td>\n",
       "      <td>0.0</td>\n",
       "      <td>11000.00</td>\n",
       "      <td>11</td>\n",
       "      <td>4</td>\n",
       "      <td>1</td>\n",
       "      <td>0.0</td>\n",
       "      <td>0</td>\n",
       "    </tr>\n",
       "    <tr>\n",
       "      <th>222123</th>\n",
       "      <td>2131605546</td>\n",
       "      <td>Sanchez Running</td>\n",
       "      <td>4.568210e+01</td>\n",
       "      <td>382.116655</td>\n",
       "      <td>CAD</td>\n",
       "      <td>2015-11-13</td>\n",
       "      <td>500.0</td>\n",
       "      <td>2015-10-14</td>\n",
       "      <td>0.0</td>\n",
       "      <td>failed</td>\n",
       "      <td>0</td>\n",
       "      <td>CA</td>\n",
       "      <td>0.0</td>\n",
       "      <td>0.0</td>\n",
       "      <td>375.80</td>\n",
       "      <td>10</td>\n",
       "      <td>2</td>\n",
       "      <td>0</td>\n",
       "      <td>0.0</td>\n",
       "      <td>0</td>\n",
       "    </tr>\n",
       "    <tr>\n",
       "      <th>...</th>\n",
       "      <td>...</td>\n",
       "      <td>...</td>\n",
       "      <td>...</td>\n",
       "      <td>...</td>\n",
       "      <td>...</td>\n",
       "      <td>...</td>\n",
       "      <td>...</td>\n",
       "      <td>...</td>\n",
       "      <td>...</td>\n",
       "      <td>...</td>\n",
       "      <td>...</td>\n",
       "      <td>...</td>\n",
       "      <td>...</td>\n",
       "      <td>...</td>\n",
       "      <td>...</td>\n",
       "      <td>...</td>\n",
       "      <td>...</td>\n",
       "      <td>...</td>\n",
       "      <td>...</td>\n",
       "      <td>...</td>\n",
       "    </tr>\n",
       "    <tr>\n",
       "      <th>177420</th>\n",
       "      <td>1902477165</td>\n",
       "      <td>SAFETOMOVE.ORG</td>\n",
       "      <td>1.003509e+02</td>\n",
       "      <td>186.174481</td>\n",
       "      <td>USD</td>\n",
       "      <td>2016-06-06</td>\n",
       "      <td>15000.0</td>\n",
       "      <td>2016-05-07</td>\n",
       "      <td>0.0</td>\n",
       "      <td>failed</td>\n",
       "      <td>0</td>\n",
       "      <td>US</td>\n",
       "      <td>0.0</td>\n",
       "      <td>0.0</td>\n",
       "      <td>15000.00</td>\n",
       "      <td>5</td>\n",
       "      <td>5</td>\n",
       "      <td>1</td>\n",
       "      <td>0.0</td>\n",
       "      <td>0</td>\n",
       "    </tr>\n",
       "    <tr>\n",
       "      <th>284927</th>\n",
       "      <td>519633552</td>\n",
       "      <td>Take my hand....</td>\n",
       "      <td>8.307189e+01</td>\n",
       "      <td>44.790372</td>\n",
       "      <td>GBP</td>\n",
       "      <td>2014-09-15</td>\n",
       "      <td>2500.0</td>\n",
       "      <td>2014-07-30</td>\n",
       "      <td>0.0</td>\n",
       "      <td>failed</td>\n",
       "      <td>0</td>\n",
       "      <td>GB</td>\n",
       "      <td>0.0</td>\n",
       "      <td>0.0</td>\n",
       "      <td>4085.17</td>\n",
       "      <td>7</td>\n",
       "      <td>2</td>\n",
       "      <td>0</td>\n",
       "      <td>0.0</td>\n",
       "      <td>0</td>\n",
       "    </tr>\n",
       "    <tr>\n",
       "      <th>331407</th>\n",
       "      <td>758374680</td>\n",
       "      <td>Help me Kick Start My Mobile App Business Idea!!!</td>\n",
       "      <td>5.157450e+01</td>\n",
       "      <td>186.174481</td>\n",
       "      <td>USD</td>\n",
       "      <td>2015-05-21</td>\n",
       "      <td>2500.0</td>\n",
       "      <td>2015-04-21</td>\n",
       "      <td>0.0</td>\n",
       "      <td>failed</td>\n",
       "      <td>0</td>\n",
       "      <td>US</td>\n",
       "      <td>0.0</td>\n",
       "      <td>0.0</td>\n",
       "      <td>2500.00</td>\n",
       "      <td>4</td>\n",
       "      <td>1</td>\n",
       "      <td>1</td>\n",
       "      <td>0.0</td>\n",
       "      <td>0</td>\n",
       "    </tr>\n",
       "    <tr>\n",
       "      <th>275818</th>\n",
       "      <td>473400040</td>\n",
       "      <td>A Quest For Comedy</td>\n",
       "      <td>1.162656e+13</td>\n",
       "      <td>72.585066</td>\n",
       "      <td>USD</td>\n",
       "      <td>2011-12-30</td>\n",
       "      <td>500.0</td>\n",
       "      <td>2011-11-30</td>\n",
       "      <td>0.0</td>\n",
       "      <td>failed</td>\n",
       "      <td>0</td>\n",
       "      <td>US</td>\n",
       "      <td>0.0</td>\n",
       "      <td>0.0</td>\n",
       "      <td>500.00</td>\n",
       "      <td>11</td>\n",
       "      <td>2</td>\n",
       "      <td>1</td>\n",
       "      <td>0.0</td>\n",
       "      <td>0</td>\n",
       "    </tr>\n",
       "    <tr>\n",
       "      <th>245276</th>\n",
       "      <td>317502019</td>\n",
       "      <td>Reviews from Arkham Library Webseries</td>\n",
       "      <td>5.886083e+01</td>\n",
       "      <td>72.585066</td>\n",
       "      <td>USD</td>\n",
       "      <td>2014-05-08</td>\n",
       "      <td>1000.0</td>\n",
       "      <td>2014-04-08</td>\n",
       "      <td>0.0</td>\n",
       "      <td>failed</td>\n",
       "      <td>0</td>\n",
       "      <td>US</td>\n",
       "      <td>0.0</td>\n",
       "      <td>0.0</td>\n",
       "      <td>1000.00</td>\n",
       "      <td>4</td>\n",
       "      <td>1</td>\n",
       "      <td>1</td>\n",
       "      <td>0.0</td>\n",
       "      <td>0</td>\n",
       "    </tr>\n",
       "  </tbody>\n",
       "</table>\n",
       "<p>34879 rows × 20 columns</p>\n",
       "</div>"
      ],
      "text/plain": [
       "                ID                                               name  \\\n",
       "177995  1905648234                English-language version of my book   \n",
       "48411   1246853764   Kings of NYC : New york city fitness competition   \n",
       "232626   252329171      Inflate.A.Smile Balloon Gifts and Decorations   \n",
       "184548   193979394                                  Music of My Heart   \n",
       "222123  2131605546                                    Sanchez Running   \n",
       "...            ...                                                ...   \n",
       "177420  1902477165                                     SAFETOMOVE.ORG   \n",
       "284927   519633552                                   Take my hand....   \n",
       "331407   758374680  Help me Kick Start My Mobile App Business Idea!!!   \n",
       "275818   473400040                                 A Quest For Comedy   \n",
       "245276   317502019              Reviews from Arkham Library Webseries   \n",
       "\n",
       "            category  main_category currency    deadline     goal    launched  \\\n",
       "177995  5.302493e+01      61.821647      EUR  2015-07-11  15000.0  2015-06-11   \n",
       "48411   4.636488e+01      72.585066      USD  2017-09-01   3500.0  2017-07-06   \n",
       "232626  5.280567e+01      45.424025      AUD  2015-05-03    500.0  2015-04-03   \n",
       "184548  5.890601e+01      58.351543      USD  2016-12-09  11000.0  2016-11-11   \n",
       "222123  4.568210e+01     382.116655      CAD  2015-11-13    500.0  2015-10-14   \n",
       "...              ...            ...      ...         ...      ...         ...   \n",
       "177420  1.003509e+02     186.174481      USD  2016-06-06  15000.0  2016-05-07   \n",
       "284927  8.307189e+01      44.790372      GBP  2014-09-15   2500.0  2014-07-30   \n",
       "331407  5.157450e+01     186.174481      USD  2015-05-21   2500.0  2015-04-21   \n",
       "275818  1.162656e+13      72.585066      USD  2011-12-30    500.0  2011-11-30   \n",
       "245276  5.886083e+01      72.585066      USD  2014-05-08   1000.0  2014-04-08   \n",
       "\n",
       "        pledged   state  backers country  usd pledged  usd_pledged_real  \\\n",
       "177995      0.0  failed        0      DE          0.0               0.0   \n",
       "48411       0.0  failed        0      US          0.0               0.0   \n",
       "232626      0.0  failed        0      AU          0.0               0.0   \n",
       "184548      0.0  failed        0      US          0.0               0.0   \n",
       "222123      0.0  failed        0      CA          0.0               0.0   \n",
       "...         ...     ...      ...     ...          ...               ...   \n",
       "177420      0.0  failed        0      US          0.0               0.0   \n",
       "284927      0.0  failed        0      GB          0.0               0.0   \n",
       "331407      0.0  failed        0      US          0.0               0.0   \n",
       "275818      0.0  failed        0      US          0.0               0.0   \n",
       "245276      0.0  failed        0      US          0.0               0.0   \n",
       "\n",
       "        usd_goal_real  launch_month  launch_day  US  avg_check  successful  \n",
       "177995       16333.46             6           3   0        0.0           0  \n",
       "48411         3500.00             7           3   1        0.0           0  \n",
       "232626         395.63             4           4   0        0.0           0  \n",
       "184548       11000.00            11           4   1        0.0           0  \n",
       "222123         375.80            10           2   0        0.0           0  \n",
       "...               ...           ...         ...  ..        ...         ...  \n",
       "177420       15000.00             5           5   1        0.0           0  \n",
       "284927        4085.17             7           2   0        0.0           0  \n",
       "331407        2500.00             4           1   1        0.0           0  \n",
       "275818         500.00            11           2   1        0.0           0  \n",
       "245276        1000.00             4           1   1        0.0           0  \n",
       "\n",
       "[34879 rows x 20 columns]"
      ]
     },
     "execution_count": 47,
     "metadata": {},
     "output_type": "execute_result"
    }
   ],
   "source": [
    "df_final[df_final.backers == 0]"
   ]
  },
  {
   "cell_type": "code",
   "execution_count": 48,
   "metadata": {},
   "outputs": [],
   "source": [
    "#Deletting values, where are zero-backers\n",
    "df_final = df_final[df_final.backers != 0]"
   ]
  },
  {
   "cell_type": "markdown",
   "metadata": {},
   "source": [
    "# Dropping columns"
   ]
  },
  {
   "cell_type": "code",
   "execution_count": 49,
   "metadata": {},
   "outputs": [],
   "source": [
    "to_drop= ['ID','name',\"currency\", \"deadline\", \"goal\", \"launched\", \"usd pledged\", \"pledged\",\n",
    "           \"usd_pledged_real\", \"state\",\"backers\", 'avg_check', 'country']"
   ]
  },
  {
   "cell_type": "code",
   "execution_count": 50,
   "metadata": {},
   "outputs": [],
   "source": [
    "df_final.drop(to_drop, axis=1, inplace=True)"
   ]
  },
  {
   "cell_type": "code",
   "execution_count": 51,
   "metadata": {},
   "outputs": [],
   "source": [
    "valid_df.drop(to_drop, axis=1, inplace=True)"
   ]
  },
  {
   "cell_type": "code",
   "execution_count": 52,
   "metadata": {},
   "outputs": [
    {
     "data": {
      "text/html": [
       "<div>\n",
       "<style scoped>\n",
       "    .dataframe tbody tr th:only-of-type {\n",
       "        vertical-align: middle;\n",
       "    }\n",
       "\n",
       "    .dataframe tbody tr th {\n",
       "        vertical-align: top;\n",
       "    }\n",
       "\n",
       "    .dataframe thead th {\n",
       "        text-align: right;\n",
       "    }\n",
       "</style>\n",
       "<table border=\"1\" class=\"dataframe\">\n",
       "  <thead>\n",
       "    <tr style=\"text-align: right;\">\n",
       "      <th></th>\n",
       "      <th>category</th>\n",
       "      <th>main_category</th>\n",
       "      <th>usd_goal_real</th>\n",
       "      <th>launch_month</th>\n",
       "      <th>launch_day</th>\n",
       "      <th>US</th>\n",
       "      <th>successful</th>\n",
       "    </tr>\n",
       "  </thead>\n",
       "  <tbody>\n",
       "    <tr>\n",
       "      <th>318084</th>\n",
       "      <td>6.292030e+01</td>\n",
       "      <td>68.452716</td>\n",
       "      <td>5000.00</td>\n",
       "      <td>12</td>\n",
       "      <td>0</td>\n",
       "      <td>1</td>\n",
       "      <td>0</td>\n",
       "    </tr>\n",
       "    <tr>\n",
       "      <th>54253</th>\n",
       "      <td>3.190776e+01</td>\n",
       "      <td>29.851113</td>\n",
       "      <td>1137.05</td>\n",
       "      <td>9</td>\n",
       "      <td>3</td>\n",
       "      <td>0</td>\n",
       "      <td>0</td>\n",
       "    </tr>\n",
       "    <tr>\n",
       "      <th>270472</th>\n",
       "      <td>5.056555e+01</td>\n",
       "      <td>29.851113</td>\n",
       "      <td>11074.20</td>\n",
       "      <td>3</td>\n",
       "      <td>0</td>\n",
       "      <td>0</td>\n",
       "      <td>0</td>\n",
       "    </tr>\n",
       "    <tr>\n",
       "      <th>32399</th>\n",
       "      <td>6.885630e+12</td>\n",
       "      <td>72.585066</td>\n",
       "      <td>1600.00</td>\n",
       "      <td>2</td>\n",
       "      <td>1</td>\n",
       "      <td>1</td>\n",
       "      <td>1</td>\n",
       "    </tr>\n",
       "    <tr>\n",
       "      <th>21393</th>\n",
       "      <td>6.799627e+01</td>\n",
       "      <td>43.229951</td>\n",
       "      <td>17647.47</td>\n",
       "      <td>7</td>\n",
       "      <td>2</td>\n",
       "      <td>0</td>\n",
       "      <td>1</td>\n",
       "    </tr>\n",
       "  </tbody>\n",
       "</table>\n",
       "</div>"
      ],
      "text/plain": [
       "            category  main_category  usd_goal_real  launch_month  launch_day  \\\n",
       "318084  6.292030e+01      68.452716        5000.00            12           0   \n",
       "54253   3.190776e+01      29.851113        1137.05             9           3   \n",
       "270472  5.056555e+01      29.851113       11074.20             3           0   \n",
       "32399   6.885630e+12      72.585066        1600.00             2           1   \n",
       "21393   6.799627e+01      43.229951       17647.47             7           2   \n",
       "\n",
       "        US  successful  \n",
       "318084   1           0  \n",
       "54253    0           0  \n",
       "270472   0           0  \n",
       "32399    1           1  \n",
       "21393    0           1  "
      ]
     },
     "execution_count": 52,
     "metadata": {},
     "output_type": "execute_result"
    }
   ],
   "source": [
    "valid_df.head()"
   ]
  },
  {
   "cell_type": "markdown",
   "metadata": {},
   "source": [
    "# Correlation matrix"
   ]
  },
  {
   "cell_type": "code",
   "execution_count": 53,
   "metadata": {},
   "outputs": [
    {
     "data": {
      "text/plain": [
       "successful\n",
       "0    142970\n",
       "1    120456\n",
       "dtype: int64"
      ]
     },
     "execution_count": 53,
     "metadata": {},
     "output_type": "execute_result"
    }
   ],
   "source": [
    "df_final.groupby(['successful']).size()"
   ]
  },
  {
   "cell_type": "code",
   "execution_count": 54,
   "metadata": {
    "scrolled": true
   },
   "outputs": [
    {
     "data": {
      "image/png": "[encoded data removed]",
      "text/plain": [
       "<Figure size 576x288 with 2 Axes>"
      ]
     },
     "metadata": {
      "needs_background": "light"
     },
     "output_type": "display_data"
    }
   ],
   "source": [
    "plt.figure(figsize=(8,4))\n",
    "ax = sns.heatmap(df_final.corr(), cmap=\"Greens\", annot=True)\n",
    "bottom, top = ax.get_ylim()\n",
    "ax.set_ylim(bottom + 0.5, top - 0.5)\n",
    "plt.title('Correlations Between Features \\n', fontsize = 20)\n",
    "plt.show()"
   ]
  },
  {
   "cell_type": "code",
   "execution_count": 55,
   "metadata": {},
   "outputs": [],
   "source": [
    "#Saving our models \n",
    "df_final.to_csv(\"G_train_kickstarter.csv\", index=False)\n",
    "valid_df.to_csv(\"G_valid_kickstarter.csv\", index=False)"
   ]
  },
  {
   "cell_type": "code",
   "execution_count": null,
   "metadata": {},
   "outputs": [],
   "source": []
  }
 ],
 "metadata": {
  "kernelspec": {
   "display_name": "Python 3",
   "language": "python",
   "name": "python3"
  },
  "language_info": {
   "codemirror_mode": {
    "name": "ipython",
    "version": 3
   },
   "file_extension": ".py",
   "mimetype": "text/x-python",
   "name": "python",
   "nbconvert_exporter": "python",
   "pygments_lexer": "ipython3",
   "version": "3.7.4"
  }
 },
 "nbformat": 4,
 "nbformat_minor": 2
}
