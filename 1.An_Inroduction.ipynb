{
 "cells": [
  {
   "cell_type": "markdown",
   "metadata": {},
   "source": [
    "**Kickstarter** is an American public benefit corporation, based in Brooklyn, New York, that maintains a global crowdfunding platform focused on creativity. The company's stated mission is to \"help bring creative projects to life\". As of December 2019, Kickstarter has received more than $4.6 billion in pledges from 17.2 million backers to fund 445,000 projects, such as films, music, stage shows, comics, journalism, video games, technology, publishing, and food-related projects.\n",
    "\n",
    "People who back Kickstarter projects are offered tangible rewards or experiences in exchange for their pledges. This model traces its roots to subscription model of arts patronage, where artists would go directly to their audiences to fund their work"
   ]
  },
  {
   "cell_type": "markdown",
   "metadata": {},
   "source": [
    "# Data Acquisition\n",
    "\n",
    "#### There are various formats for a dataset such as .csv, .json, .xlsx etc. The dataset can be stored in different places on your local machine or sometimes online.  In our case, Kickstarter Dataset is an online source and it is in CSV (comma separated value) format.\n",
    "\n",
    "#### data source: https://www.kaggle.com/kemical/kickstarter-projects\n",
    "#### data type: csv\n",
    "#### The Pandas Library is a useful tool that enables us to read various datasets into a data frame; our Jupyter notebook  platforms have a built-in Pandas Library so that all we need to do is import Pandas without installing.\n",
    "#### Use pandas.read_csv() function to read the csv file. In the bracket, put the file path along so that pandas will read the file into a data frame from that address. The file path can be either an URL or local file address. \n",
    "\n",
    "#### Dowload zip file on data source and unpack ks-projects-201801.csv\n"
   ]
  },
  {
   "cell_type": "markdown",
   "metadata": {},
   "source": [
    "# Column description\n",
    "**ID** - internal kickstarter id  <br>\n",
    "**name**  - name of project - A project is a finite work with a clear goal that you’d like to bring to life. Think albums, books, or films. <br>\n",
    "**category** - category <br>\n",
    "**main_category** - category of campaign <br>\n",
    "**currency** - currency used to support <br>\n",
    "**deadline** - deadline for crowdfunding <br>\n",
    "**goal** - fundraising goal - The funding goal is the amount of money that a creator needs to complete their project.<br>\n",
    "**launched** - date launched <br>\n",
    "**pledged** - amount pledged by \"crowd\"<br>\n",
    "**state** - Current condition the project is in<br>\n",
    "**backers** - number of backers<br>\n",
    "**country** - country pledged from# usd pledged - amount of money pledged<br>\n",
    "**usd_goal_real** - amount in USD <br>\n",
    "**usd_pledged_real** - amount pledged in USD <br>"
   ]
  },
  {
   "cell_type": "code",
   "execution_count": 41,
   "metadata": {
    "scrolled": true
   },
   "outputs": [],
   "source": [
    "#import linear algebra and data manipulation libraries\n",
    "import numpy as np\n",
    "import pandas as pd\n",
    "import matplotlib.pyplot as plt"
   ]
  },
  {
   "cell_type": "code",
   "execution_count": 31,
   "metadata": {
    "scrolled": true
   },
   "outputs": [
    {
     "data": {
      "text/html": [
       "<div>\n",
       "<style scoped>\n",
       "    .dataframe tbody tr th:only-of-type {\n",
       "        vertical-align: middle;\n",
       "    }\n",
       "\n",
       "    .dataframe tbody tr th {\n",
       "        vertical-align: top;\n",
       "    }\n",
       "\n",
       "    .dataframe thead th {\n",
       "        text-align: right;\n",
       "    }\n",
       "</style>\n",
       "<table border=\"1\" class=\"dataframe\">\n",
       "  <thead>\n",
       "    <tr style=\"text-align: right;\">\n",
       "      <th></th>\n",
       "      <th>ID</th>\n",
       "      <th>name</th>\n",
       "      <th>category</th>\n",
       "      <th>main_category</th>\n",
       "      <th>currency</th>\n",
       "      <th>deadline</th>\n",
       "      <th>goal</th>\n",
       "      <th>launched</th>\n",
       "      <th>pledged</th>\n",
       "      <th>state</th>\n",
       "      <th>backers</th>\n",
       "      <th>country</th>\n",
       "      <th>usd pledged</th>\n",
       "      <th>usd_pledged_real</th>\n",
       "      <th>usd_goal_real</th>\n",
       "    </tr>\n",
       "  </thead>\n",
       "  <tbody>\n",
       "    <tr>\n",
       "      <th>0</th>\n",
       "      <td>1000002330</td>\n",
       "      <td>The Songs of Adelaide &amp; Abullah</td>\n",
       "      <td>Poetry</td>\n",
       "      <td>Publishing</td>\n",
       "      <td>GBP</td>\n",
       "      <td>2015-10-09</td>\n",
       "      <td>1000.0</td>\n",
       "      <td>2015-08-11 12:12:28</td>\n",
       "      <td>0.0</td>\n",
       "      <td>failed</td>\n",
       "      <td>0</td>\n",
       "      <td>GB</td>\n",
       "      <td>0.0</td>\n",
       "      <td>0.0</td>\n",
       "      <td>1533.95</td>\n",
       "    </tr>\n",
       "    <tr>\n",
       "      <th>1</th>\n",
       "      <td>1000003930</td>\n",
       "      <td>Greeting From Earth: ZGAC Arts Capsule For ET</td>\n",
       "      <td>Narrative Film</td>\n",
       "      <td>Film &amp; Video</td>\n",
       "      <td>USD</td>\n",
       "      <td>2017-11-01</td>\n",
       "      <td>30000.0</td>\n",
       "      <td>2017-09-02 04:43:57</td>\n",
       "      <td>2421.0</td>\n",
       "      <td>failed</td>\n",
       "      <td>15</td>\n",
       "      <td>US</td>\n",
       "      <td>100.0</td>\n",
       "      <td>2421.0</td>\n",
       "      <td>30000.00</td>\n",
       "    </tr>\n",
       "    <tr>\n",
       "      <th>2</th>\n",
       "      <td>1000004038</td>\n",
       "      <td>Where is Hank?</td>\n",
       "      <td>Narrative Film</td>\n",
       "      <td>Film &amp; Video</td>\n",
       "      <td>USD</td>\n",
       "      <td>2013-02-26</td>\n",
       "      <td>45000.0</td>\n",
       "      <td>2013-01-12 00:20:50</td>\n",
       "      <td>220.0</td>\n",
       "      <td>failed</td>\n",
       "      <td>3</td>\n",
       "      <td>US</td>\n",
       "      <td>220.0</td>\n",
       "      <td>220.0</td>\n",
       "      <td>45000.00</td>\n",
       "    </tr>\n",
       "    <tr>\n",
       "      <th>3</th>\n",
       "      <td>1000007540</td>\n",
       "      <td>ToshiCapital Rekordz Needs Help to Complete Album</td>\n",
       "      <td>Music</td>\n",
       "      <td>Music</td>\n",
       "      <td>USD</td>\n",
       "      <td>2012-04-16</td>\n",
       "      <td>5000.0</td>\n",
       "      <td>2012-03-17 03:24:11</td>\n",
       "      <td>1.0</td>\n",
       "      <td>failed</td>\n",
       "      <td>1</td>\n",
       "      <td>US</td>\n",
       "      <td>1.0</td>\n",
       "      <td>1.0</td>\n",
       "      <td>5000.00</td>\n",
       "    </tr>\n",
       "    <tr>\n",
       "      <th>4</th>\n",
       "      <td>1000011046</td>\n",
       "      <td>Community Film Project: The Art of Neighborhoo...</td>\n",
       "      <td>Film &amp; Video</td>\n",
       "      <td>Film &amp; Video</td>\n",
       "      <td>USD</td>\n",
       "      <td>2015-08-29</td>\n",
       "      <td>19500.0</td>\n",
       "      <td>2015-07-04 08:35:03</td>\n",
       "      <td>1283.0</td>\n",
       "      <td>canceled</td>\n",
       "      <td>14</td>\n",
       "      <td>US</td>\n",
       "      <td>1283.0</td>\n",
       "      <td>1283.0</td>\n",
       "      <td>19500.00</td>\n",
       "    </tr>\n",
       "  </tbody>\n",
       "</table>\n",
       "</div>"
      ],
      "text/plain": [
       "           ID                                               name  \\\n",
       "0  1000002330                    The Songs of Adelaide & Abullah   \n",
       "1  1000003930      Greeting From Earth: ZGAC Arts Capsule For ET   \n",
       "2  1000004038                                     Where is Hank?   \n",
       "3  1000007540  ToshiCapital Rekordz Needs Help to Complete Album   \n",
       "4  1000011046  Community Film Project: The Art of Neighborhoo...   \n",
       "\n",
       "         category main_category currency    deadline     goal  \\\n",
       "0          Poetry    Publishing      GBP  2015-10-09   1000.0   \n",
       "1  Narrative Film  Film & Video      USD  2017-11-01  30000.0   \n",
       "2  Narrative Film  Film & Video      USD  2013-02-26  45000.0   \n",
       "3           Music         Music      USD  2012-04-16   5000.0   \n",
       "4    Film & Video  Film & Video      USD  2015-08-29  19500.0   \n",
       "\n",
       "              launched  pledged     state  backers country  usd pledged  \\\n",
       "0  2015-08-11 12:12:28      0.0    failed        0      GB          0.0   \n",
       "1  2017-09-02 04:43:57   2421.0    failed       15      US        100.0   \n",
       "2  2013-01-12 00:20:50    220.0    failed        3      US        220.0   \n",
       "3  2012-03-17 03:24:11      1.0    failed        1      US          1.0   \n",
       "4  2015-07-04 08:35:03   1283.0  canceled       14      US       1283.0   \n",
       "\n",
       "   usd_pledged_real  usd_goal_real  \n",
       "0               0.0        1533.95  \n",
       "1            2421.0       30000.00  \n",
       "2             220.0       45000.00  \n",
       "3               1.0        5000.00  \n",
       "4            1283.0       19500.00  "
      ]
     },
     "execution_count": 31,
     "metadata": {},
     "output_type": "execute_result"
    }
   ],
   "source": [
    "df = pd.read_csv(r\"C:\\Users\\1\\Documents\\DataScience-Python3\\kickstarter-projects\\ks-projects-201801.csv\")\n",
    "df.head()"
   ]
  },
  {
   "cell_type": "code",
   "execution_count": 32,
   "metadata": {},
   "outputs": [
    {
     "data": {
      "text/plain": [
       "(378661, 15)"
      ]
     },
     "execution_count": 32,
     "metadata": {},
     "output_type": "execute_result"
    }
   ],
   "source": [
    "#Defigning how much we have values and columns\n",
    "df.shape"
   ]
  },
  {
   "cell_type": "code",
   "execution_count": 33,
   "metadata": {
    "scrolled": true
   },
   "outputs": [
    {
     "name": "stdout",
     "output_type": "stream",
     "text": [
      "<class 'pandas.core.frame.DataFrame'>\n",
      "RangeIndex: 378661 entries, 0 to 378660\n",
      "Data columns (total 15 columns):\n",
      " #   Column            Non-Null Count   Dtype  \n",
      "---  ------            --------------   -----  \n",
      " 0   ID                378661 non-null  int64  \n",
      " 1   name              378657 non-null  object \n",
      " 2   category          378661 non-null  object \n",
      " 3   main_category     378661 non-null  object \n",
      " 4   currency          378661 non-null  object \n",
      " 5   deadline          378661 non-null  object \n",
      " 6   goal              378661 non-null  float64\n",
      " 7   launched          378661 non-null  object \n",
      " 8   pledged           378661 non-null  float64\n",
      " 9   state             378661 non-null  object \n",
      " 10  backers           378661 non-null  int64  \n",
      " 11  country           378661 non-null  object \n",
      " 12  usd pledged       374864 non-null  float64\n",
      " 13  usd_pledged_real  378661 non-null  float64\n",
      " 14  usd_goal_real     378661 non-null  float64\n",
      "dtypes: float64(5), int64(2), object(8)\n",
      "memory usage: 43.3+ MB\n"
     ]
    }
   ],
   "source": [
    "#Look at our columns\n",
    "df.info()"
   ]
  },
  {
   "cell_type": "markdown",
   "metadata": {},
   "source": [
    "**There are 5 columns with datatype - \"float64\", 2 columns with datatype - \"int64\", and 8 columns with <br>\n",
    "datatype - \"object\"**"
   ]
  },
  {
   "cell_type": "code",
   "execution_count": 34,
   "metadata": {},
   "outputs": [
    {
     "data": {
      "text/plain": [
       "US      292627\n",
       "GB       33672\n",
       "CA       14756\n",
       "AU        7839\n",
       "DE        4171\n",
       "N,0\"      3797\n",
       "FR        2939\n",
       "IT        2878\n",
       "NL        2868\n",
       "ES        2276\n",
       "SE        1757\n",
       "MX        1752\n",
       "NZ        1447\n",
       "DK        1113\n",
       "IE         811\n",
       "CH         761\n",
       "NO         708\n",
       "HK         618\n",
       "BE         617\n",
       "AT         597\n",
       "SG         555\n",
       "LU          62\n",
       "JP          40\n",
       "Name: country, dtype: int64"
      ]
     },
     "execution_count": 34,
     "metadata": {},
     "output_type": "execute_result"
    }
   ],
   "source": [
    "#check country column \n",
    "df.country.value_counts() "
   ]
  },
  {
   "cell_type": "markdown",
   "metadata": {},
   "source": [
    "**We see that there is a country, that doesn't exist(N,0\"). We can clear it in \"data cleaning\" stage**"
   ]
  },
  {
   "cell_type": "markdown",
   "metadata": {},
   "source": [
    "# Null Data"
   ]
  },
  {
   "cell_type": "code",
   "execution_count": 35,
   "metadata": {},
   "outputs": [
    {
     "data": {
      "text/plain": [
       "ID                     0\n",
       "name                   4\n",
       "category               0\n",
       "main_category          0\n",
       "currency               0\n",
       "deadline               0\n",
       "goal                   0\n",
       "launched               0\n",
       "pledged                0\n",
       "state                  0\n",
       "backers                0\n",
       "country                0\n",
       "usd pledged         3797\n",
       "usd_pledged_real       0\n",
       "usd_goal_real          0\n",
       "dtype: int64"
      ]
     },
     "execution_count": 35,
     "metadata": {},
     "output_type": "execute_result"
    }
   ],
   "source": [
    "df.isna().sum() "
   ]
  },
  {
   "cell_type": "code",
   "execution_count": 37,
   "metadata": {},
   "outputs": [
    {
     "name": "stdout",
     "output_type": "stream",
     "text": [
      "Missing data in each Kickstarter dataframe column:\n",
      "name : 4 missing values is 0.001 % of total\n",
      "usd pledged : 3797 missing values is 1.003 % of total\n"
     ]
    }
   ],
   "source": [
    "print ('Missing data in each Kickstarter dataframe column:')\n",
    "for c in df.columns:\n",
    "    missing_data = len(df) - df[c].count()\n",
    "    if (missing_data > 0 or missing_data =='NaN'):\n",
    "        print(c, ':', missing_data, 'missing values is', str(round(float(missing_data / float(len(df))) * \n",
    "        100, 3)), '% of total')"
   ]
  },
  {
   "cell_type": "markdown",
   "metadata": {},
   "source": [
    "# Duplicates"
   ]
  },
  {
   "cell_type": "code",
   "execution_count": 38,
   "metadata": {},
   "outputs": [
    {
     "data": {
      "text/html": [
       "<div>\n",
       "<style scoped>\n",
       "    .dataframe tbody tr th:only-of-type {\n",
       "        vertical-align: middle;\n",
       "    }\n",
       "\n",
       "    .dataframe tbody tr th {\n",
       "        vertical-align: top;\n",
       "    }\n",
       "\n",
       "    .dataframe thead th {\n",
       "        text-align: right;\n",
       "    }\n",
       "</style>\n",
       "<table border=\"1\" class=\"dataframe\">\n",
       "  <thead>\n",
       "    <tr style=\"text-align: right;\">\n",
       "      <th></th>\n",
       "      <th>ID</th>\n",
       "      <th>name</th>\n",
       "      <th>category</th>\n",
       "      <th>main_category</th>\n",
       "      <th>currency</th>\n",
       "      <th>deadline</th>\n",
       "      <th>goal</th>\n",
       "      <th>launched</th>\n",
       "      <th>pledged</th>\n",
       "      <th>state</th>\n",
       "      <th>backers</th>\n",
       "      <th>country</th>\n",
       "      <th>usd pledged</th>\n",
       "      <th>usd_pledged_real</th>\n",
       "      <th>usd_goal_real</th>\n",
       "    </tr>\n",
       "  </thead>\n",
       "  <tbody>\n",
       "  </tbody>\n",
       "</table>\n",
       "</div>"
      ],
      "text/plain": [
       "Empty DataFrame\n",
       "Columns: [ID, name, category, main_category, currency, deadline, goal, launched, pledged, state, backers, country, usd pledged, usd_pledged_real, usd_goal_real]\n",
       "Index: []"
      ]
     },
     "execution_count": 38,
     "metadata": {},
     "output_type": "execute_result"
    }
   ],
   "source": [
    "df[df['ID'].duplicated() == True] #checking for duplicates in the ID column"
   ]
  },
  {
   "cell_type": "markdown",
   "metadata": {},
   "source": [
    "**ID column has no duplicates**"
   ]
  },
  {
   "cell_type": "code",
   "execution_count": 39,
   "metadata": {},
   "outputs": [
    {
     "data": {
      "text/html": [
       "<div>\n",
       "<style scoped>\n",
       "    .dataframe tbody tr th:only-of-type {\n",
       "        vertical-align: middle;\n",
       "    }\n",
       "\n",
       "    .dataframe tbody tr th {\n",
       "        vertical-align: top;\n",
       "    }\n",
       "\n",
       "    .dataframe thead th {\n",
       "        text-align: right;\n",
       "    }\n",
       "</style>\n",
       "<table border=\"1\" class=\"dataframe\">\n",
       "  <thead>\n",
       "    <tr style=\"text-align: right;\">\n",
       "      <th></th>\n",
       "      <th>ID</th>\n",
       "      <th>name</th>\n",
       "      <th>category</th>\n",
       "      <th>main_category</th>\n",
       "      <th>currency</th>\n",
       "      <th>deadline</th>\n",
       "      <th>goal</th>\n",
       "      <th>launched</th>\n",
       "      <th>pledged</th>\n",
       "      <th>state</th>\n",
       "      <th>backers</th>\n",
       "      <th>country</th>\n",
       "      <th>usd pledged</th>\n",
       "      <th>usd_pledged_real</th>\n",
       "      <th>usd_goal_real</th>\n",
       "    </tr>\n",
       "  </thead>\n",
       "  <tbody>\n",
       "    <tr>\n",
       "      <th>6379</th>\n",
       "      <td>1032645935</td>\n",
       "      <td>Cancelled (Canceled)</td>\n",
       "      <td>Design</td>\n",
       "      <td>Design</td>\n",
       "      <td>USD</td>\n",
       "      <td>2015-06-05</td>\n",
       "      <td>100000.0</td>\n",
       "      <td>2015-05-06 12:29:08</td>\n",
       "      <td>3105.0</td>\n",
       "      <td>canceled</td>\n",
       "      <td>17</td>\n",
       "      <td>US</td>\n",
       "      <td>3105.0</td>\n",
       "      <td>3105.00</td>\n",
       "      <td>100000.00</td>\n",
       "    </tr>\n",
       "    <tr>\n",
       "      <th>7743</th>\n",
       "      <td>1039093987</td>\n",
       "      <td>New EP/Music Development</td>\n",
       "      <td>Music</td>\n",
       "      <td>Music</td>\n",
       "      <td>USD</td>\n",
       "      <td>2016-01-07</td>\n",
       "      <td>3800.0</td>\n",
       "      <td>2015-11-24 15:29:35</td>\n",
       "      <td>257.0</td>\n",
       "      <td>undefined</td>\n",
       "      <td>0</td>\n",
       "      <td>N,0\"</td>\n",
       "      <td>NaN</td>\n",
       "      <td>257.00</td>\n",
       "      <td>3800.00</td>\n",
       "    </tr>\n",
       "    <tr>\n",
       "      <th>8356</th>\n",
       "      <td>1042208764</td>\n",
       "      <td>The Basement</td>\n",
       "      <td>Horror</td>\n",
       "      <td>Film &amp; Video</td>\n",
       "      <td>USD</td>\n",
       "      <td>2015-05-07</td>\n",
       "      <td>12000.0</td>\n",
       "      <td>2015-04-07 18:24:19</td>\n",
       "      <td>12311.0</td>\n",
       "      <td>successful</td>\n",
       "      <td>106</td>\n",
       "      <td>US</td>\n",
       "      <td>12311.0</td>\n",
       "      <td>12311.00</td>\n",
       "      <td>12000.00</td>\n",
       "    </tr>\n",
       "    <tr>\n",
       "      <th>8448</th>\n",
       "      <td>1042642941</td>\n",
       "      <td>The Gift</td>\n",
       "      <td>Film &amp; Video</td>\n",
       "      <td>Film &amp; Video</td>\n",
       "      <td>USD</td>\n",
       "      <td>2013-05-08</td>\n",
       "      <td>3000.0</td>\n",
       "      <td>2013-04-17 01:55:27</td>\n",
       "      <td>3370.0</td>\n",
       "      <td>successful</td>\n",
       "      <td>37</td>\n",
       "      <td>US</td>\n",
       "      <td>3370.0</td>\n",
       "      <td>3370.00</td>\n",
       "      <td>3000.00</td>\n",
       "    </tr>\n",
       "    <tr>\n",
       "      <th>8761</th>\n",
       "      <td>1044230780</td>\n",
       "      <td>Redemption</td>\n",
       "      <td>Narrative Film</td>\n",
       "      <td>Film &amp; Video</td>\n",
       "      <td>USD</td>\n",
       "      <td>2012-08-25</td>\n",
       "      <td>11000.0</td>\n",
       "      <td>2012-06-26 19:13:21</td>\n",
       "      <td>11440.0</td>\n",
       "      <td>successful</td>\n",
       "      <td>67</td>\n",
       "      <td>US</td>\n",
       "      <td>11440.0</td>\n",
       "      <td>11440.00</td>\n",
       "      <td>11000.00</td>\n",
       "    </tr>\n",
       "    <tr>\n",
       "      <th>...</th>\n",
       "      <td>...</td>\n",
       "      <td>...</td>\n",
       "      <td>...</td>\n",
       "      <td>...</td>\n",
       "      <td>...</td>\n",
       "      <td>...</td>\n",
       "      <td>...</td>\n",
       "      <td>...</td>\n",
       "      <td>...</td>\n",
       "      <td>...</td>\n",
       "      <td>...</td>\n",
       "      <td>...</td>\n",
       "      <td>...</td>\n",
       "      <td>...</td>\n",
       "      <td>...</td>\n",
       "    </tr>\n",
       "    <tr>\n",
       "      <th>378140</th>\n",
       "      <td>997542782</td>\n",
       "      <td>Innocent Sin</td>\n",
       "      <td>Indie Rock</td>\n",
       "      <td>Music</td>\n",
       "      <td>USD</td>\n",
       "      <td>2015-01-25</td>\n",
       "      <td>300.0</td>\n",
       "      <td>2014-12-26 18:04:28</td>\n",
       "      <td>600.0</td>\n",
       "      <td>successful</td>\n",
       "      <td>15</td>\n",
       "      <td>US</td>\n",
       "      <td>600.0</td>\n",
       "      <td>600.00</td>\n",
       "      <td>300.00</td>\n",
       "    </tr>\n",
       "    <tr>\n",
       "      <th>378224</th>\n",
       "      <td>997919903</td>\n",
       "      <td>Grassroots</td>\n",
       "      <td>Publishing</td>\n",
       "      <td>Publishing</td>\n",
       "      <td>EUR</td>\n",
       "      <td>2017-09-14</td>\n",
       "      <td>10000.0</td>\n",
       "      <td>2017-08-15 18:36:18</td>\n",
       "      <td>21.0</td>\n",
       "      <td>failed</td>\n",
       "      <td>3</td>\n",
       "      <td>IE</td>\n",
       "      <td>0.0</td>\n",
       "      <td>25.12</td>\n",
       "      <td>11963.01</td>\n",
       "    </tr>\n",
       "    <tr>\n",
       "      <th>378426</th>\n",
       "      <td>998836498</td>\n",
       "      <td>The InAction</td>\n",
       "      <td>Camera Equipment</td>\n",
       "      <td>Technology</td>\n",
       "      <td>USD</td>\n",
       "      <td>2016-07-29</td>\n",
       "      <td>80000.0</td>\n",
       "      <td>2016-06-28 04:00:08</td>\n",
       "      <td>670.0</td>\n",
       "      <td>canceled</td>\n",
       "      <td>5</td>\n",
       "      <td>US</td>\n",
       "      <td>410.0</td>\n",
       "      <td>670.00</td>\n",
       "      <td>80000.00</td>\n",
       "    </tr>\n",
       "    <tr>\n",
       "      <th>378475</th>\n",
       "      <td>999055513</td>\n",
       "      <td>The Last Hurrah</td>\n",
       "      <td>Rock</td>\n",
       "      <td>Music</td>\n",
       "      <td>USD</td>\n",
       "      <td>2012-06-03</td>\n",
       "      <td>5500.0</td>\n",
       "      <td>2012-05-04 15:20:41</td>\n",
       "      <td>7665.0</td>\n",
       "      <td>successful</td>\n",
       "      <td>69</td>\n",
       "      <td>US</td>\n",
       "      <td>7665.0</td>\n",
       "      <td>7665.00</td>\n",
       "      <td>5500.00</td>\n",
       "    </tr>\n",
       "    <tr>\n",
       "      <th>378548</th>\n",
       "      <td>999410766</td>\n",
       "      <td>Guilt</td>\n",
       "      <td>Shorts</td>\n",
       "      <td>Film &amp; Video</td>\n",
       "      <td>USD</td>\n",
       "      <td>2014-05-16</td>\n",
       "      <td>65000.0</td>\n",
       "      <td>2014-04-16 17:45:46</td>\n",
       "      <td>791.0</td>\n",
       "      <td>failed</td>\n",
       "      <td>7</td>\n",
       "      <td>US</td>\n",
       "      <td>791.0</td>\n",
       "      <td>791.00</td>\n",
       "      <td>65000.00</td>\n",
       "    </tr>\n",
       "  </tbody>\n",
       "</table>\n",
       "<p>2896 rows × 15 columns</p>\n",
       "</div>"
      ],
      "text/plain": [
       "                ID                      name          category main_category  \\\n",
       "6379    1032645935      Cancelled (Canceled)            Design        Design   \n",
       "7743    1039093987  New EP/Music Development             Music         Music   \n",
       "8356    1042208764              The Basement            Horror  Film & Video   \n",
       "8448    1042642941                  The Gift      Film & Video  Film & Video   \n",
       "8761    1044230780                Redemption    Narrative Film  Film & Video   \n",
       "...            ...                       ...               ...           ...   \n",
       "378140   997542782              Innocent Sin        Indie Rock         Music   \n",
       "378224   997919903                Grassroots        Publishing    Publishing   \n",
       "378426   998836498              The InAction  Camera Equipment    Technology   \n",
       "378475   999055513           The Last Hurrah              Rock         Music   \n",
       "378548   999410766                     Guilt            Shorts  Film & Video   \n",
       "\n",
       "       currency    deadline      goal             launched  pledged  \\\n",
       "6379        USD  2015-06-05  100000.0  2015-05-06 12:29:08   3105.0   \n",
       "7743        USD  2016-01-07    3800.0  2015-11-24 15:29:35    257.0   \n",
       "8356        USD  2015-05-07   12000.0  2015-04-07 18:24:19  12311.0   \n",
       "8448        USD  2013-05-08    3000.0  2013-04-17 01:55:27   3370.0   \n",
       "8761        USD  2012-08-25   11000.0  2012-06-26 19:13:21  11440.0   \n",
       "...         ...         ...       ...                  ...      ...   \n",
       "378140      USD  2015-01-25     300.0  2014-12-26 18:04:28    600.0   \n",
       "378224      EUR  2017-09-14   10000.0  2017-08-15 18:36:18     21.0   \n",
       "378426      USD  2016-07-29   80000.0  2016-06-28 04:00:08    670.0   \n",
       "378475      USD  2012-06-03    5500.0  2012-05-04 15:20:41   7665.0   \n",
       "378548      USD  2014-05-16   65000.0  2014-04-16 17:45:46    791.0   \n",
       "\n",
       "             state  backers country  usd pledged  usd_pledged_real  \\\n",
       "6379      canceled       17      US       3105.0           3105.00   \n",
       "7743     undefined        0    N,0\"          NaN            257.00   \n",
       "8356    successful      106      US      12311.0          12311.00   \n",
       "8448    successful       37      US       3370.0           3370.00   \n",
       "8761    successful       67      US      11440.0          11440.00   \n",
       "...            ...      ...     ...          ...               ...   \n",
       "378140  successful       15      US        600.0            600.00   \n",
       "378224      failed        3      IE          0.0             25.12   \n",
       "378426    canceled        5      US        410.0            670.00   \n",
       "378475  successful       69      US       7665.0           7665.00   \n",
       "378548      failed        7      US        791.0            791.00   \n",
       "\n",
       "        usd_goal_real  \n",
       "6379        100000.00  \n",
       "7743          3800.00  \n",
       "8356         12000.00  \n",
       "8448          3000.00  \n",
       "8761         11000.00  \n",
       "...               ...  \n",
       "378140         300.00  \n",
       "378224       11963.01  \n",
       "378426       80000.00  \n",
       "378475        5500.00  \n",
       "378548       65000.00  \n",
       "\n",
       "[2896 rows x 15 columns]"
      ]
     },
     "execution_count": 39,
     "metadata": {},
     "output_type": "execute_result"
    }
   ],
   "source": [
    "df[df['name'].duplicated() == True] #checking for duplicates in name column"
   ]
  },
  {
   "cell_type": "markdown",
   "metadata": {},
   "source": [
    "**There are 2896 rows with the same name**"
   ]
  },
  {
   "cell_type": "markdown",
   "metadata": {},
   "source": [
    "# Normalization of Numerical Variables"
   ]
  },
  {
   "cell_type": "code",
   "execution_count": 42,
   "metadata": {},
   "outputs": [
    {
     "data": {
      "image/png": "[encoded data removed]",
      "text/plain": [
       "<Figure size 1152x1008 with 9 Axes>"
      ]
     },
     "metadata": {
      "needs_background": "light"
     },
     "output_type": "display_data"
    }
   ],
   "source": [
    "#let's get a better idea of what we're working with here.\n",
    "df.hist(figsize=(16,14)) \n",
    "plt.show()"
   ]
  },
  {
   "cell_type": "markdown",
   "metadata": {},
   "source": [
    "**There is no normal distribution** <br>\n",
    "**Last 6- all zero-heavy distributed**"
   ]
  },
  {
   "cell_type": "code",
   "execution_count": 21,
   "metadata": {},
   "outputs": [
    {
     "name": "stdout",
     "output_type": "stream",
     "text": [
      "51811 projects from 374860 have 0 backers\n"
     ]
    }
   ],
   "source": [
    "zero=(df.backers == 0).sum() \n",
    "total=df['ID'].count()\n",
    "print (zero,'projects from', total ,'have 0 backers')"
   ]
  },
  {
   "cell_type": "code",
   "execution_count": 22,
   "metadata": {},
   "outputs": [
    {
     "data": {
      "image/png": "[encoded data removed]",
      "text/plain": [
       "<Figure size 432x288 with 1 Axes>"
      ]
     },
     "metadata": {
      "needs_background": "light"
     },
     "output_type": "display_data"
    }
   ],
   "source": [
    "#hist of log transformed usd goal real\n",
    "np.log(df.usd_goal_real + 1).hist() \n",
    "plt.title(\"Distribution of USD Goal Real\")\n",
    "plt.show()"
   ]
  },
  {
   "cell_type": "markdown",
   "metadata": {},
   "source": [
    "**The shape of USD goal looks a lot more normal when standardized**"
   ]
  },
  {
   "cell_type": "code",
   "execution_count": 12,
   "metadata": {},
   "outputs": [
    {
     "data": {
      "text/plain": [
       "count    378661.000000\n",
       "mean        105.617476\n",
       "std         907.185035\n",
       "min           0.000000\n",
       "25%           2.000000\n",
       "50%          12.000000\n",
       "75%          56.000000\n",
       "max      219382.000000\n",
       "Name: backers, dtype: float64"
      ]
     },
     "execution_count": 12,
     "metadata": {},
     "output_type": "execute_result"
    }
   ],
   "source": [
    "#getting descriptive statistics\n",
    "df.backers.describe() "
   ]
  },
  {
   "cell_type": "code",
   "execution_count": 13,
   "metadata": {},
   "outputs": [
    {
     "data": {
      "text/plain": [
       "187652    219382\n",
       "75900     154926\n",
       "292244    105857\n",
       "148585     91585\n",
       "182657     87142\n",
       "23404      85581\n",
       "157270     78471\n",
       "239175     74405\n",
       "272924     73986\n",
       "38291      73206\n",
       "Name: backers, dtype: int64"
      ]
     },
     "execution_count": 13,
     "metadata": {},
     "output_type": "execute_result"
    }
   ],
   "source": [
    "# 10 largest values in our backers column\n",
    "df.backers.nlargest(10)"
   ]
  },
  {
   "cell_type": "markdown",
   "metadata": {},
   "source": [
    "**the most 3 successfull projects have more than 100.000 backers**  \n"
   ]
  },
  {
   "cell_type": "code",
   "execution_count": 25,
   "metadata": {
    "scrolled": true
   },
   "outputs": [
    {
     "data": {
      "text/plain": [
       "ID                         1955357092\n",
       "name                Exploding Kittens\n",
       "category               Tabletop Games\n",
       "main_category                   Games\n",
       "currency                          USD\n",
       "deadline                   2015-02-20\n",
       "goal                            10000\n",
       "launched                   2015-01-20\n",
       "pledged                   8.78257e+06\n",
       "state                      successful\n",
       "backers                        219382\n",
       "country                            US\n",
       "usd pledged               8.78257e+06\n",
       "usd_pledged_real          8.78257e+06\n",
       "usd_goal_real                   10000\n",
       "Name: 187652, dtype: object"
      ]
     },
     "execution_count": 25,
     "metadata": {},
     "output_type": "execute_result"
    }
   ],
   "source": [
    "#project with highest number of backers\n",
    "df.loc[187652] "
   ]
  },
  {
   "cell_type": "markdown",
   "metadata": {},
   "source": [
    "**This project has a great success because the viral effect**"
   ]
  },
  {
   "cell_type": "code",
   "execution_count": null,
   "metadata": {},
   "outputs": [],
   "source": []
  }
 ],
 "metadata": {
  "kernelspec": {
   "display_name": "Python 3",
   "language": "python",
   "name": "python3"
  },
  "language_info": {
   "codemirror_mode": {
    "name": "ipython",
    "version": 3
   },
   "file_extension": ".py",
   "mimetype": "text/x-python",
   "name": "python",
   "nbconvert_exporter": "python",
   "pygments_lexer": "ipython3",
   "version": "3.7.4"
  }
 },
 "nbformat": 4,
 "nbformat_minor": 2
}
